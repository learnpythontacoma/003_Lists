{
 "cells": [
  {
   "cell_type": "markdown",
   "metadata": {},
   "source": [
    "<img src ='graphics/python_logo.png'>\n",
    "\n",
    "# Lesson 003_Lists_Key\n",
    "\n",
    "## What are Lists in Python?\n",
    "\n",
    "Lists are our first, and most often used, means of storing and retrieving data in Python. They are fundamental as a storage structure. So what are they?\n",
    "\n",
    "A List is a collection of items that are assigned to a variable in Python. Lists are:\n",
    "1. denoted by square brackets within code \"[ ]\"\n",
    "1. can contain any type of information (e.g., integers, strings, floats, and even other lists)\n",
    "1. can be of any length, from nothing (yes, lists can be empty as we will see) to several thousand entries\n",
    "\n",
    "In the next block of code, you will see a variable called `a`. It is a list (as we can tell by the square brackets around the values) that contains strings, integers, and floats. You will also notice that around each string we are using either single quotation marks ' or double quotation marks \" to tell python these are strings. We have mixed these quotation marks in this example just to show that it can be done and that python accepts either form. (For good coding, we want to generally default to single quotation marks ' as much as possible.)"
   ]
  },
  {
   "cell_type": "code",
   "execution_count": 1,
   "metadata": {},
   "outputs": [],
   "source": [
    "a = ['Black Knight', 'air-ladened swallow', 3.01, 42, \"Nee\"]"
   ]
  },
  {
   "cell_type": "markdown",
   "metadata": {},
   "source": [
    "When we run the following print statement for variable `a`, you will immediately see that python returns the list with square brackets rather than each list item individually. To python, the contents of the list (the value of the variable `a` equals ALL of the contents of the list. "
   ]
  },
  {
   "cell_type": "code",
   "execution_count": 2,
   "metadata": {},
   "outputs": [
    {
     "name": "stdout",
     "output_type": "stream",
     "text": [
      "['Black Knight', 'air-ladened swallow', 3.01, 42, 'Nee']\n"
     ]
    }
   ],
   "source": [
    "print(a)"
   ]
  },
  {
   "cell_type": "markdown",
   "metadata": {},
   "source": [
    "There will be times when we will want to print out all elements of a list, but normally, this will not meet our needs. For example, if we wanted to answer the statement, \"He said it was only a scratch!\", it would look odd printing out as we see in the next block of code. "
   ]
  },
  {
   "cell_type": "code",
   "execution_count": 3,
   "metadata": {},
   "outputs": [
    {
     "name": "stdout",
     "output_type": "stream",
     "text": [
      "He said it was only a scratch!  Who is the ['Black Knight', 'air-ladened swallow', 3.01, 42, 'Nee']\n"
     ]
    }
   ],
   "source": [
    "print('He said it was only a scratch!  Who is the', a)"
   ]
  },
  {
   "cell_type": "markdown",
   "metadata": {},
   "source": [
    "# Accessing Elements in a List\n",
    "\n",
    "Python makes it easy to access an item in a list. For each element in a list, it holds a position. For example, if we run the next block of code, we see that 'Black Knight' occupies the zero (0) position in the list. "
   ]
  },
  {
   "cell_type": "code",
   "execution_count": 4,
   "metadata": {},
   "outputs": [
    {
     "name": "stdout",
     "output_type": "stream",
     "text": [
      "Black Knight\n"
     ]
    }
   ],
   "source": [
    "print(a[0])"
   ]
  },
  {
   "cell_type": "markdown",
   "metadata": {},
   "source": [
    "**Do you notice that we placed the position number of the element in square brackets [ . ]?**\n",
    "\n",
    "In python, the first position of every storage device (in this case, a list) is noted by a zero (0) and *not* a one (1). Python considers the first item in a list to be at position 0 and not position 1. \n",
    "\n",
    "In the next block, try changing the position number for elements (the number in the square brackets) and see what you get."
   ]
  },
  {
   "cell_type": "code",
   "execution_count": 5,
   "metadata": {},
   "outputs": [
    {
     "name": "stdout",
     "output_type": "stream",
     "text": [
      "Nee\n"
     ]
    }
   ],
   "source": [
    "print(a[4])"
   ]
  },
  {
   "cell_type": "markdown",
   "metadata": {},
   "source": [
    "___\n",
    "Knowing this, finish the print code in the next block so it prints, \"He says it is only a scratch!  Who is the Black Knight?\". I will help you get started."
   ]
  },
  {
   "cell_type": "code",
   "execution_count": 7,
   "metadata": {},
   "outputs": [
    {
     "name": "stdout",
     "output_type": "stream",
     "text": [
      "He says it is only a scratch!  Who is the Black Knight?\n"
     ]
    }
   ],
   "source": [
    "print('He says it is only a scratch!  Who is the '+a[0]  +'?')"
   ]
  },
  {
   "cell_type": "markdown",
   "metadata": {},
   "source": [
    "___\n",
    "\n",
    "Did you notice that we used the '+' operator in the print statement? \"Black Knight\" is a string, so we can use it. But what if the value we want is a[2] or a[3]? \n",
    "\n",
    "Write out a print statement in the next block of code that contains a string and either the a[2] or a[3] value. "
   ]
  },
  {
   "cell_type": "code",
   "execution_count": 8,
   "metadata": {},
   "outputs": [
    {
     "name": "stdout",
     "output_type": "stream",
     "text": [
      "This is the a[2] value: 3.01\n"
     ]
    }
   ],
   "source": [
    "#Write out a print statement code that contains a string and either the a[2] or a[3] value.\n",
    "\n",
    "print('This is the a[2] value:', a[2])"
   ]
  },
  {
   "cell_type": "markdown",
   "metadata": {},
   "source": [
    "# Changing, Adding or Removing Elements from a List\n",
    "\n",
    "If all lists were static and we never needed to change anything contained in the list, our lesson would end there. But then, if that was the case, Python would be far from useful. \n",
    "\n",
    "The overwhelming majority of lists in the Python world are dynamic. As a programmer, you will be adding, removing, or changing elements in a list. Python makes it easy to do this. \n",
    "\n",
    "\n",
    "## Modifying an element in a list\n",
    "The syntax for modifying an element in a list is similar to the syntax for accessing an element in a list. \n",
    "\n",
    "For example, if we want to replace the third element in our list of auto manufacturers in the next block of code with the name'Ford', we would add it as follows:"
   ]
  },
  {
   "cell_type": "code",
   "execution_count": 9,
   "metadata": {},
   "outputs": [
    {
     "name": "stdout",
     "output_type": "stream",
     "text": [
      "['Chevy', 'BMW', 'Mercedes', 'Trabi']\n",
      "['Chevy', 'BMW', 'Ford', 'Trabi']\n"
     ]
    }
   ],
   "source": [
    "autos = ['Chevy', 'BMW', 'Mercedes', 'Trabi']\n",
    "\n",
    "print (autos)\n",
    "\n",
    "autos[2] = 'Ford'\n",
    "\n",
    "print(autos)"
   ]
  },
  {
   "cell_type": "markdown",
   "metadata": {},
   "source": [
    "## Adding elements in a list\n",
    "\n",
    "Let's say that we want to ADD 'Ford' to our list of auto manufactures and we want to keep all of the other manufacturers' names. We can do this in one of two ways: by inserting the name into a specific position or by adding it to the end of a list.\n",
    "\n",
    "`.insert()` allows us to insert an element into a specific place in the order of our list. \n",
    "\n",
    "Given the same `autos` list that we used above and given that we want to place 'Ford' into the third place in the list, we `.insert()` it as follows."
   ]
  },
  {
   "cell_type": "code",
   "execution_count": 10,
   "metadata": {},
   "outputs": [
    {
     "name": "stdout",
     "output_type": "stream",
     "text": [
      "['Chevy', 'BMW', 'Mercedes', 'Trabi']\n",
      "['Chevy', 'BMW', 'Ford', 'Mercedes', 'Trabi']\n"
     ]
    }
   ],
   "source": [
    "autos = ['Chevy', 'BMW', 'Mercedes', 'Trabi']\n",
    "\n",
    "print (autos)\n",
    "\n",
    "autos.insert(2, 'Ford')\n",
    "\n",
    "print(autos)"
   ]
  },
  {
   "cell_type": "markdown",
   "metadata": {},
   "source": [
    "First, we tell python that we are working with the `autos` variable. Next, we tell python that we want to `.insert()` an item. Then we tell it within the brackets which position we want the new element to go into (in this case it is position 2 - remember that the first position in a list is the zero position, not the 1 position). Finally, after a comma, we tell python what we want placed into that position. This gives us the simple statement:\n",
    "\n",
    "autos.insert(2, 'Ford')\n",
    "\n",
    "Python does the rest. \n",
    "\n",
    "If we don't care what position the item occupies in a list - and with lists it really doesn't matter for the majority of the times you are programming - then it is good enough to place the new item at the end of the list. To do this, we use `.append()`. When you append an item to a list, the new element is added to the end of the list.\n"
   ]
  },
  {
   "cell_type": "code",
   "execution_count": 11,
   "metadata": {},
   "outputs": [
    {
     "name": "stdout",
     "output_type": "stream",
     "text": [
      "['Chevy', 'BMW', 'Mercedes', 'Trabi']\n",
      "['Chevy', 'BMW', 'Mercedes', 'Trabi', 'Ford']\n"
     ]
    }
   ],
   "source": [
    "autos = ['Chevy', 'BMW', 'Mercedes', 'Trabi']\n",
    "\n",
    "print (autos)\n",
    "\n",
    "autos.append('Ford')\n",
    "\n",
    "print(autos)"
   ]
  },
  {
   "cell_type": "markdown",
   "metadata": {},
   "source": [
    "Because the element is going to the end of the list, we don't need to tell python the position. Thus, with the `.append()` command, we do not put a position marker in to the code. Python already knows it will go at the end of the list. "
   ]
  },
  {
   "cell_type": "markdown",
   "metadata": {},
   "source": [
    "# Exercise #1 (Individual Work)\n",
    "\n",
    "Let's stop and try out these new skills with some exercises. \n",
    "\n",
    "In the next block of code, assign the first names of five of your family members or friends to a list, then print it out."
   ]
  },
  {
   "cell_type": "code",
   "execution_count": 12,
   "metadata": {},
   "outputs": [
    {
     "name": "stdout",
     "output_type": "stream",
     "text": [
      "['Elena', 'Grace', 'Gracie', 'Paul', 'Mary']\n"
     ]
    }
   ],
   "source": [
    "# Assign the first names of five of your family members or friends to a list, then print it out.\n",
    "\n",
    "friends = ['Elena', 'Grace', 'Gracie', 'Paul', 'Mary']\n",
    "\n",
    "print(friends)\n"
   ]
  },
  {
   "cell_type": "markdown",
   "metadata": {},
   "source": [
    "Next, because Uncle Elroy is your favorite uncle, you want to add his name to the first position in the list. "
   ]
  },
  {
   "cell_type": "code",
   "execution_count": 13,
   "metadata": {},
   "outputs": [
    {
     "name": "stdout",
     "output_type": "stream",
     "text": [
      "['Elroy', 'Elena', 'Grace', 'Gracie', 'Paul', 'Mary']\n"
     ]
    }
   ],
   "source": [
    "# Add 'Elroy' to the first position in the list you produced above, then print out the list. \n",
    "\n",
    "friends.insert(0, 'Elroy')\n",
    "\n",
    "print(friends)"
   ]
  },
  {
   "cell_type": "markdown",
   "metadata": {},
   "source": [
    "Of course, Aunt Estella is loved, but she is not as loved as every one else in the list, so add her name to the list, but at the end. "
   ]
  },
  {
   "cell_type": "code",
   "execution_count": 14,
   "metadata": {},
   "outputs": [
    {
     "name": "stdout",
     "output_type": "stream",
     "text": [
      "['Elroy', 'Elena', 'Grace', 'Gracie', 'Paul', 'Mary', 'Estella']\n"
     ]
    }
   ],
   "source": [
    "# Add 'Estella' to the end of the list you produced above, then print out the list.\n",
    "\n",
    "friends.append('Estella')\n",
    "\n",
    "print(friends)"
   ]
  },
  {
   "cell_type": "markdown",
   "metadata": {},
   "source": [
    "# Removing elements from a list\n",
    "\n",
    "Now that we have a list of our great friends and family members, we notice that we want to change the list. One of our friends had us pay for her pizza the other night without asking us to do it (and we are on a budget). So she is not a favorite friend right now. Well, we can easily delete her from our list.\n",
    "\n",
    "## `del` statements\n",
    "In python, the `.del` statement allows us to delete an element from our list, provided that we know the position number of the element we want to delete. \n",
    "\n",
    "For example, if we know that our cheap, non-paying friend's name is in position 3 of our list `friends`, then we simply tell python:\n",
    "\n",
    "del friends[2]\n",
    "\n",
    "Now you try it. In the next block, write a statement to delete the name of the friend in element position 3 from your list, then print out the new list. "
   ]
  },
  {
   "cell_type": "code",
   "execution_count": 15,
   "metadata": {},
   "outputs": [
    {
     "name": "stdout",
     "output_type": "stream",
     "text": [
      "['Elroy', 'Elena', 'Gracie', 'Paul', 'Mary', 'Estella']\n"
     ]
    }
   ],
   "source": [
    "# Write a statement to delete the name of the friend in element position 3 from your list, \n",
    "# then print out the new list.\n",
    "\n",
    "del friends[2]\n",
    "\n",
    "print(friends)"
   ]
  },
  {
   "cell_type": "markdown",
   "metadata": {},
   "source": [
    "***NOTE: When you use a `del` statement, python will permanently delete the item from the list. If you want to return it to the list, you will need to use one of the techniques we discussed earlier to place an item in the list. ***"
   ]
  },
  {
   "cell_type": "markdown",
   "metadata": {},
   "source": [
    "## `.pop()` command\n",
    "\n",
    "The `del` statement is fine if we want to permanently delete an element from a list, but what do we do if we want to temporarily pop the value out of the list? In those cases, we use the `.pop()` command.\n",
    "\n",
    "The `.pop()` command let's us \"pop\" an element out of our list temporarily. Python still keeps the element in its memory, but it overlooks it for the action we are taking. \n",
    "\n",
    "`.pop()` can remove an element by position -- friends.pop(3) (to temporarily pop out the fourth name in our friends list, or the `.pop()` command can remove the last item in a list -- friends.pop().\n",
    "\n",
    "Let's run the next two blocks of code and see what it does to our list. "
   ]
  },
  {
   "cell_type": "code",
   "execution_count": 16,
   "metadata": {},
   "outputs": [
    {
     "name": "stdout",
     "output_type": "stream",
     "text": [
      "['Chevy', 'BMW', 'Mercedes', 'Trabi', 'Ford']\n",
      "['Chevy', 'BMW', 'Trabi', 'Ford']\n"
     ]
    }
   ],
   "source": [
    "print(autos)\n",
    "\n",
    "autos.pop(2)\n",
    "\n",
    "print(autos)"
   ]
  },
  {
   "cell_type": "code",
   "execution_count": 17,
   "metadata": {},
   "outputs": [
    {
     "name": "stdout",
     "output_type": "stream",
     "text": [
      "['Chevy', 'BMW', 'Ford', 'Trabi']\n",
      "['Chevy', 'BMW', 'Ford']\n"
     ]
    }
   ],
   "source": [
    "autos = ['Chevy', 'BMW', 'Ford', 'Trabi']\n",
    "\n",
    "print(autos)\n",
    "\n",
    "autos.pop()\n",
    "\n",
    "print(autos)"
   ]
  },
  {
   "cell_type": "markdown",
   "metadata": {},
   "source": [
    "## `.remove()` command\n",
    "\n",
    "Let's say that you have a list with 100 elements. And you are not sure in which element position the value you are seeking is located, but you want to remove that specific value, the `.remove()` command is what you want to use. \n",
    "\n",
    "Let's say that you have a guest list that has 20 names in it. You don't know what position \"Elroy\" is located, but you know that you don't want him at the party - his humor can be off-color at times. Run the next block of code to see how we can eliminate him from our guest list without knowing the position his name is in. "
   ]
  },
  {
   "cell_type": "code",
   "execution_count": 18,
   "metadata": {},
   "outputs": [
    {
     "name": "stdout",
     "output_type": "stream",
     "text": [
      "['Janet', 'Shay', 'Liu', 'Elenor', 'John', 'Rosa', 'Shaquine', 'Sadhil', 'Elroy', 'Jake', 'Ben']\n",
      "['Janet', 'Shay', 'Liu', 'Elenor', 'John', 'Rosa', 'Shaquine', 'Sadhil', 'Jake', 'Ben']\n"
     ]
    }
   ],
   "source": [
    "guest_list = ['Janet', 'Shay', 'Liu', 'Elenor', 'John', 'Rosa', 'Shaquine', 'Sadhil', 'Elroy', 'Jake', 'Ben']\n",
    "\n",
    "print(guest_list)\n",
    "\n",
    "guest_list.remove('Elroy')\n",
    "\n",
    "print(guest_list)"
   ]
  },
  {
   "cell_type": "markdown",
   "metadata": {},
   "source": [
    "---\n",
    "We can also use a variable in the `.remove()` command. For example,"
   ]
  },
  {
   "cell_type": "code",
   "execution_count": 19,
   "metadata": {},
   "outputs": [
    {
     "name": "stdout",
     "output_type": "stream",
     "text": [
      "['Janet', 'Shay', 'Liu', 'Elenor', 'John', 'Rosa', 'Shaquine', 'Sadhil', 'Elroy', 'Jake', 'Ben']\n",
      "['Janet', 'Shay', 'Liu', 'Elenor', 'John', 'Rosa', 'Shaquine', 'Sadhil', 'Jake', 'Ben']\n"
     ]
    }
   ],
   "source": [
    "guest_list = ['Janet', 'Shay', 'Liu', 'Elenor', 'John', 'Rosa', 'Shaquine', 'Sadhil', 'Elroy', 'Jake', 'Ben']\n",
    "\n",
    "print(guest_list)\n",
    "\n",
    "bad_jokes = 'Elroy'\n",
    "\n",
    "guest_list.remove(bad_jokes)\n",
    "\n",
    "print(guest_list)"
   ]
  },
  {
   "cell_type": "markdown",
   "metadata": {},
   "source": [
    "# Sorting a list with `.sort( )`\n",
    "\n",
    "A list can be any elements in any order, but what if we want to sort our list - such as the guest_list above. To do that we use the `.sort( )` command to permanently sort a list.\n",
    "\n",
    "If we want to temporarily sort a list, we use the `sorted()` command."
   ]
  },
  {
   "cell_type": "code",
   "execution_count": 20,
   "metadata": {},
   "outputs": [
    {
     "name": "stdout",
     "output_type": "stream",
     "text": [
      "sorted(): ['Ben', 'Elenor', 'Elroy', 'Jake', 'Janet', 'John', 'Liu', 'Rosa', 'Sadhil', 'Shaquine', 'Shay']\n",
      "Normal: ['Janet', 'Shay', 'Liu', 'Elenor', 'John', 'Rosa', 'Shaquine', 'Sadhil', 'Elroy', 'Jake', 'Ben']\n",
      ".sort(): ['Ben', 'Elenor', 'Elroy', 'Jake', 'Janet', 'John', 'Liu', 'Rosa', 'Sadhil', 'Shaquine', 'Shay']\n"
     ]
    }
   ],
   "source": [
    "guest_list = ['Janet', 'Shay', 'Liu', 'Elenor', 'John', 'Rosa', 'Shaquine', 'Sadhil', 'Elroy', 'Jake', 'Ben']\n",
    "\n",
    "print('sorted():', sorted(guest_list))\n",
    "\n",
    "print('Normal:', guest_list)\n",
    "\n",
    "guest_list.sort()\n",
    "print('.sort():', guest_list)"
   ]
  },
  {
   "cell_type": "markdown",
   "metadata": {},
   "source": [
    "# Finding the Length of a List\n",
    "\n",
    "Not all of your programming lists will be short and easy to determine how long they are. Often, you will be using lists that others have produced, so you won't know how big they are. Python makes it easy to find the length of a list by simply using the `len()` command. \n",
    "\n",
    "Run the following block of code to generate a list of random size. Everytime you run this block, you will generate a list of random size between 1 and 1000 elements long. You will not know how long each will be."
   ]
  },
  {
   "cell_type": "code",
   "execution_count": 21,
   "metadata": {},
   "outputs": [],
   "source": [
    "# Run this block of code to generate a list of random length for our next lesson item\n",
    "\n",
    "import random\n",
    "\n",
    "random_number = random.randint(1, 1000)\n",
    "\n",
    "a = []\n",
    "\n",
    "for i in range(random_number):\n",
    "    n = random.randint(10, 10000)\n",
    "    a.append(n)\n",
    "    "
   ]
  },
  {
   "cell_type": "markdown",
   "metadata": {},
   "source": [
    "Now that you have run this code, and assuming that you want to know how many elements are in the list, you can either:\n",
    "1. print out the list and count them all or\n",
    "1. ask python how long the list is. \n",
    "\n",
    "To ask python how long the list is (what is its LENGTH), use the `len()` command. The syntax is `len(list)`.\n",
    "\n",
    "In the next block, using the `len()` command, find out how long is your list. "
   ]
  },
  {
   "cell_type": "code",
   "execution_count": 22,
   "metadata": {},
   "outputs": [
    {
     "data": {
      "text/plain": [
       "502"
      ]
     },
     "execution_count": 22,
     "metadata": {},
     "output_type": "execute_result"
    }
   ],
   "source": [
    "# Using the len() command, find out how long is your list.\n",
    "\n",
    "len(a)\n"
   ]
  },
  {
   "cell_type": "markdown",
   "metadata": {},
   "source": [
    "# Exercise 2: Working with Lists #1"
   ]
  },
  {
   "cell_type": "code",
   "execution_count": 23,
   "metadata": {},
   "outputs": [],
   "source": [
    "# Run this block of code to generate a list of random length for our next lesson item\n",
    "\n",
    "import random\n",
    "\n",
    "random_number = random.randint(1, 1000)\n",
    "\n",
    "a = []\n",
    "\n",
    "for i in range(random_number):\n",
    "    n = random.randint(10, 10000)\n",
    "    a.append(n)\n",
    "    "
   ]
  },
  {
   "cell_type": "markdown",
   "metadata": {},
   "source": [
    "Now that you have a random size list of random numbers between 10-10,000, let's do some sorting and working with it. \n",
    "\n",
    "Your list is called 'a'."
   ]
  },
  {
   "cell_type": "code",
   "execution_count": 24,
   "metadata": {},
   "outputs": [
    {
     "data": {
      "text/plain": [
       "538"
      ]
     },
     "execution_count": 24,
     "metadata": {},
     "output_type": "execute_result"
    }
   ],
   "source": [
    "# Determine how long is your list.\n",
    "\n",
    "len(a)"
   ]
  },
  {
   "cell_type": "code",
   "execution_count": 25,
   "metadata": {},
   "outputs": [
    {
     "name": "stdout",
     "output_type": "stream",
     "text": [
      "[6155, 58, 9223, 6826, 4247, 1251, 8782, 1677, 6237, 8680, 9830, 8677, 9852, 1862, 5545, 2786, 223, 2353, 9455, 6938, 520, 8219, 9898, 1844, 5538, 9015, 6727, 5454, 7350, 3825, 2475, 994, 2414, 6403, 3717, 2549, 1028, 6455, 7446, 439, 621, 7302, 7169, 418, 1105, 7059, 2547, 2012, 6131, 1278, 5964, 9836, 7071, 2091, 5245, 8205, 737, 8944, 7739, 5894, 5212, 1878, 6282, 2496, 3063, 2825, 925, 4596, 9074, 7549, 4294, 1077, 2512, 547, 7621, 9854, 7045, 9119, 2454, 1521, 5503, 5750, 2827, 9930, 1845, 7707, 3776, 4473, 5496, 8703, 4217, 4003, 7125, 1526, 70, 7548, 1508, 8791, 8876, 6775, 8740, 8449, 9912, 4045, 7690, 926, 8390, 2390, 3624, 7373, 8180, 2430, 6634, 2706, 755, 4356, 6301, 9133, 6348, 7227, 8651, 1440, 5917, 5941, 5566, 9184, 6302, 4382, 3618, 6352, 8258, 8871, 1215, 2729, 4449, 7221, 4308, 4599, 7327, 180, 2088, 42, 6052, 4087, 5682, 6240, 2597, 8267, 5479, 6988, 9026, 5335, 3641, 7553, 2064, 5987, 6508, 6907, 7781, 6980, 8156, 8823, 7116, 9494, 1873, 5902, 2168, 8047, 1935, 8887, 2008, 6919, 7094, 5800, 1198, 9764, 1755, 7906, 5264, 5006, 9459, 7001, 7476, 5936, 7654, 8229, 5615, 4201, 4527, 237, 4059, 8811, 3006, 9548, 691, 7372, 6327, 535, 7833, 1894, 6745, 6632, 7203, 3062, 796, 637, 5961, 3330, 3336, 9631, 3081, 8989, 1847, 6392, 3609, 1026, 3248, 7814, 8469, 2834, 9617, 4732, 2190, 8288, 8433, 103, 7534, 1155, 3151, 1064, 8133, 4764, 2132, 2989, 4197, 5408, 1316, 3087, 1672, 8372, 9349, 4905, 1454, 2209, 8788, 2293, 3224, 1968, 1604, 7338, 8364, 1555, 6247, 4725, 275, 5117, 2457, 2409, 5225, 6801, 9194, 1693, 6547, 9382, 6901, 9751, 737, 2808, 7061, 1296, 3220, 6191, 7003, 2631, 4675, 1612, 4986, 6754, 1882, 8589, 5522, 6381, 6533, 8303, 9939, 9518, 3794, 6850, 952, 4530, 4180, 767, 9205, 8056, 1762, 6815, 5408, 2329, 4265, 6368, 6491, 4370, 9424, 5973, 9634, 2690, 4197, 338, 5276, 2673, 9384, 8100, 8099, 5554, 6975, 4952, 3417, 955, 5123, 3775, 2070, 1739, 5593, 8697, 427, 1282, 3098, 8945, 2545, 2523, 1471, 5830, 6039, 9652, 6008, 6242, 5826, 914, 3932, 7487, 8969, 9969, 7782, 7892, 9473, 3834, 4962, 5267, 3233, 8024, 9513, 6399, 5939, 7894, 7597, 7564, 6790, 3942, 881, 4689, 5478, 4103, 4466, 987, 9100, 8127, 7549, 7125, 5836, 7362, 8706, 3156, 6383, 6077, 3209, 9120, 2779, 9971, 6113, 3962, 117, 6841, 2768, 9543, 1561, 3981, 9385, 5248, 3669, 4949, 1800, 5053, 5148, 9606, 4942, 8764, 4098, 3958, 8631, 751, 3296, 5966, 5627, 9789, 2298, 7983, 2752, 5396, 7355, 6341, 4259, 9170, 7294, 7821, 3520, 3971, 8075, 2097, 5068, 2273, 509, 7234, 7697, 5621, 1285, 1174, 306, 9349, 4266, 4080, 286, 3423, 9745, 17, 9343, 4817, 7471, 1378, 4190, 4351, 5050, 1024, 5914, 5807, 4283, 6667, 4018, 2902, 4688, 331, 1231, 8176, 7325, 6156, 9968, 765, 5375, 14, 5123, 7511, 1365, 8943, 8791, 1152, 2122, 6535, 6270, 1234, 3810, 5813, 9719, 5486, 1459, 7094, 7226, 1528, 1917, 940, 2747, 5734, 9419, 7708, 80, 4426, 3440, 1170, 7204, 1572, 655, 6139, 6320, 217, 5648, 5969, 7827, 8507, 5865, 18, 1114, 5029, 9528, 4045, 8635, 4080, 3163, 4025, 216, 4810, 182, 7090, 2024, 5983, 1387, 6313, 1528, 706, 1730, 1454, 5873, 6907, 4087, 1615, 6836, 2385, 6821, 387, 7062, 1480, 733, 5631, 2403, 8700, 7771, 1832, 4250, 4904, 566, 9157]\n"
     ]
    }
   ],
   "source": [
    "# Print out a copy of your list so you get a sense of the number order\n",
    "\n",
    "print(a)"
   ]
  },
  {
   "cell_type": "code",
   "execution_count": 26,
   "metadata": {},
   "outputs": [],
   "source": [
    "# Add the number 3456 into your list\n",
    "\n",
    "a.append(3456)"
   ]
  },
  {
   "cell_type": "code",
   "execution_count": 29,
   "metadata": {},
   "outputs": [
    {
     "name": "stdout",
     "output_type": "stream",
     "text": [
      "[14, 17, 18, 42, 58, 70, 80, 103, 117, 180, 182, 216, 217, 223, 237, 275, 286, 306, 331, 338, 387, 418, 427, 439, 509, 520, 535, 547, 566, 621, 637, 655, 691, 706, 733, 737, 737, 751, 755, 765, 767, 796, 881, 914, 925, 926, 940, 952, 955, 987, 994, 1024, 1026, 1028, 1064, 1077, 1105, 1114, 1152, 1155, 1170, 1174, 1198, 1215, 1231, 1234, 1251, 1278, 1282, 1285, 1296, 1316, 1365, 1378, 1387, 1440, 1454, 1454, 1459, 1471, 1480, 1508, 1521, 1526, 1528, 1528, 1555, 1561, 1572, 1604, 1612, 1615, 1672, 1677, 1693, 1730, 1739, 1755, 1762, 1800, 1832, 1844, 1845, 1847, 1862, 1873, 1878, 1882, 1894, 1917, 1935, 1968, 2008, 2012, 2024, 2064, 2070, 2088, 2091, 2097, 2122, 2132, 2168, 2190, 2209, 2273, 2293, 2298, 2329, 2353, 2385, 2390, 2403, 2409, 2414, 2430, 2454, 2457, 2475, 2496, 2512, 2523, 2545, 2547, 2549, 2597, 2631, 2673, 2690, 2706, 2729, 2747, 2752, 2768, 2779, 2786, 2808, 2825, 2827, 2834, 2902, 2989, 3006, 3062, 3063, 3081, 3087, 3098, 3151, 3156, 3163, 3209, 3220, 3224, 3233, 3248, 3296, 3330, 3336, 3417, 3423, 3440, 3456, 3520, 3609, 3618, 3624, 3641, 3669, 3717, 3775, 3776, 3794, 3810, 3825, 3834, 3932, 3942, 3958, 3962, 3971, 3981, 4003, 4018, 4025, 4045, 4045, 4059, 4080, 4080, 4087, 4087, 4098, 4103, 4180, 4190, 4197, 4197, 4201, 4217, 4247, 4250, 4259, 4265, 4266, 4283, 4294, 4308, 4351, 4356, 4370, 4382, 4426, 4449, 4466, 4473, 4527, 4530, 4596, 4599, 4675, 4688, 4689, 4725, 4732, 4764, 4810, 4817, 4904, 4905, 4942, 4949, 4952, 4962, 4986, 5006, 5029, 5050, 5053, 5068, 5117, 5123, 5123, 5148, 5212, 5225, 5245, 5248, 5264, 5267, 5276, 5335, 5375, 5396, 5408, 5408, 5454, 5478, 5479, 5486, 5496, 5503, 5522, 5538, 5545, 5554, 5566, 5593, 5615, 5621, 5627, 5631, 5648, 5682, 5734, 5750, 5800, 5807, 5813, 5826, 5830, 5836, 5865, 5873, 5894, 5902, 5914, 5917, 5936, 5939, 5941, 5961, 5964, 5966, 5969, 5973, 5983, 5987, 6008, 6039, 6052, 6077, 6113, 6131, 6139, 6155, 6156, 6191, 6237, 6240, 6242, 6247, 6270, 6282, 6301, 6302, 6313, 6320, 6327, 6341, 6348, 6352, 6368, 6381, 6383, 6392, 6399, 6403, 6455, 6491, 6508, 6533, 6535, 6547, 6632, 6634, 6667, 6727, 6745, 6754, 6775, 6790, 6801, 6815, 6821, 6826, 6836, 6841, 6850, 6901, 6907, 6907, 6919, 6938, 6975, 6980, 6988, 7001, 7003, 7045, 7059, 7061, 7062, 7071, 7090, 7094, 7094, 7116, 7125, 7125, 7169, 7203, 7204, 7221, 7226, 7227, 7234, 7294, 7302, 7325, 7327, 7338, 7350, 7355, 7362, 7372, 7373, 7446, 7471, 7476, 7487, 7511, 7534, 7548, 7549, 7549, 7553, 7564, 7597, 7621, 7654, 7690, 7697, 7707, 7708, 7739, 7771, 7781, 7782, 7814, 7821, 7827, 7833, 7892, 7894, 7906, 7983, 8024, 8047, 8056, 8075, 8099, 8100, 8127, 8133, 8156, 8176, 8180, 8205, 8219, 8229, 8258, 8267, 8288, 8303, 8364, 8372, 8390, 8433, 8449, 8469, 8507, 8589, 8631, 8635, 8651, 8677, 8680, 8697, 8700, 8703, 8706, 8740, 8764, 8782, 8788, 8791, 8791, 8811, 8823, 8871, 8876, 8887, 8943, 8944, 8945, 8969, 8989, 9015, 9026, 9074, 9100, 9119, 9120, 9133, 9157, 9170, 9184, 9194, 9205, 9223, 9343, 9349, 9349, 9382, 9384, 9385, 9419, 9424, 9455, 9459, 9473, 9494, 9513, 9518, 9528, 9543, 9548, 9606, 9617, 9631, 9634, 9652, 9719, 9745, 9751, 9764, 9789, 9830, 9836, 9852, 9854, 9898, 9912, 9930, 9939, 9968, 9969, 9971]\n"
     ]
    }
   ],
   "source": [
    "# Sort your list from smallest number to largest number\n",
    "\n",
    "a.sort()\n",
    "\n",
    "print(a)"
   ]
  },
  {
   "cell_type": "code",
   "execution_count": null,
   "metadata": {},
   "outputs": [],
   "source": []
  },
  {
   "cell_type": "code",
   "execution_count": null,
   "metadata": {},
   "outputs": [],
   "source": []
  }
 ],
 "metadata": {
  "kernelspec": {
   "display_name": "Python 3",
   "language": "python",
   "name": "python3"
  },
  "language_info": {
   "codemirror_mode": {
    "name": "ipython",
    "version": 3
   },
   "file_extension": ".py",
   "mimetype": "text/x-python",
   "name": "python",
   "nbconvert_exporter": "python",
   "pygments_lexer": "ipython3",
   "version": "3.7.3"
  },
  "toc": {
   "base_numbering": 1,
   "nav_menu": {},
   "number_sections": true,
   "sideBar": true,
   "skip_h1_title": false,
   "title_cell": "Table of Contents",
   "title_sidebar": "Contents",
   "toc_cell": false,
   "toc_position": {},
   "toc_section_display": true,
   "toc_window_display": true
  },
  "varInspector": {
   "cols": {
    "lenName": 16,
    "lenType": 16,
    "lenVar": 40
   },
   "kernels_config": {
    "python": {
     "delete_cmd_postfix": "",
     "delete_cmd_prefix": "del ",
     "library": "var_list.py",
     "varRefreshCmd": "print(var_dic_list())"
    },
    "r": {
     "delete_cmd_postfix": ") ",
     "delete_cmd_prefix": "rm(",
     "library": "var_list.r",
     "varRefreshCmd": "cat(var_dic_list()) "
    }
   },
   "types_to_exclude": [
    "module",
    "function",
    "builtin_function_or_method",
    "instance",
    "_Feature"
   ],
   "window_display": false
  }
 },
 "nbformat": 4,
 "nbformat_minor": 2
}
