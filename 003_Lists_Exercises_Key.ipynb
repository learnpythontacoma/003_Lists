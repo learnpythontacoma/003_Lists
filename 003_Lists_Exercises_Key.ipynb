{
 "cells": [
  {
   "cell_type": "markdown",
   "metadata": {},
   "source": [
    "<img src ='graphics/python_logo.png'>\n",
    "\n",
    "# Lesson 003_Lists_Exercises\n",
    "\n",
    "Now that we have spent some time learning the basics of lists, let's put that new information to work and turn it into knowledge.\n",
    "\n",
    "This notebook should provide you with ample opportunity to try out your new skills with developing and managing lists in python. \n",
    "\n",
    "To get underway, in the next block write the code to develop a list, then populate that list with integers, floats and strings. Make sure that you have at least five elements in the list. When you have made the list, print it so you know that it is correct."
   ]
  },
  {
   "cell_type": "code",
   "execution_count": 5,
   "metadata": {},
   "outputs": [
    {
     "name": "stdout",
     "output_type": "stream",
     "text": [
      "[1, 2.3, 56, 272, 42]\n"
     ]
    }
   ],
   "source": [
    "'''\n",
    "Write the code to develop a list, then populate that list with integers and floats.\n",
    "Make sure that you have at least five elements in the list. \n",
    "When you have made the list, print it so you know that it is correct.\n",
    "'''\n",
    "\n",
    "a = [1, 2.3, 56, 272, 42]\n",
    "\n",
    "print(a)"
   ]
  },
  {
   "cell_type": "code",
   "execution_count": 6,
   "metadata": {},
   "outputs": [
    {
     "data": {
      "text/plain": [
       "5"
      ]
     },
     "execution_count": 6,
     "metadata": {},
     "output_type": "execute_result"
    }
   ],
   "source": [
    "'''\n",
    "Using the proper command, have python find the length of your new list.\n",
    "'''\n",
    "\n",
    "len(a)\n"
   ]
  },
  {
   "cell_type": "code",
   "execution_count": 7,
   "metadata": {},
   "outputs": [
    {
     "name": "stdout",
     "output_type": "stream",
     "text": [
      "[1, 2.3, 42, 56, 272]\n"
     ]
    }
   ],
   "source": [
    "'''\n",
    "Sort your list and print it out to check the results.\n",
    "'''\n",
    "\n",
    "a.sort()\n",
    "\n",
    "print(a)\n",
    "\n"
   ]
  },
  {
   "cell_type": "code",
   "execution_count": 8,
   "metadata": {},
   "outputs": [
    {
     "name": "stdout",
     "output_type": "stream",
     "text": [
      "[1, 2.3, 'Cheese Whiz', 42, 56, 272]\n"
     ]
    }
   ],
   "source": [
    "'''\n",
    "Add the term \"Cheese Whiz\" to the 3rd elemental position in your list. \n",
    "Print your list to check the results\n",
    "'''\n",
    "\n",
    "a.insert(2, 'Cheese Whiz')\n",
    "\n",
    "print(a)"
   ]
  },
  {
   "cell_type": "code",
   "execution_count": 9,
   "metadata": {},
   "outputs": [
    {
     "name": "stdout",
     "output_type": "stream",
     "text": [
      "[1, 2.3, 'Cheese Whiz', 56, 272]\n",
      "1\n"
     ]
    }
   ],
   "source": [
    "'''\n",
    "Remove the 4th element in your list and print out the new list\n",
    "Print out the element in the 1 position.\n",
    "'''\n",
    "\n",
    "del a[3]\n",
    "print(a)\n",
    "\n",
    "print(a[0])\n",
    "\n"
   ]
  },
  {
   "cell_type": "code",
   "execution_count": 10,
   "metadata": {},
   "outputs": [
    {
     "name": "stdout",
     "output_type": "stream",
     "text": [
      "1\n"
     ]
    }
   ],
   "source": [
    "'''\n",
    "Using your list, pop out the 1st element and print only that element.\n",
    "'''\n",
    "\n",
    "print(a.pop(0))\n"
   ]
  },
  {
   "cell_type": "markdown",
   "metadata": {},
   "source": [
    "# Bonus Problem\n",
    "\n",
    "We didn't talk about this, but you already possess all of the information to solve this bonus problem. \n",
    "\n",
    "Make three lists (a, b, c), then place those lists into a list (d) - with the result being lists within a list - then print out the list of lists. \n",
    "\n",
    "Your results should look something like this:\n",
    "\n",
    "[[1,2,3,4], [5,6,7,8], ['red', 'white', 'orange']]"
   ]
  },
  {
   "cell_type": "code",
   "execution_count": 11,
   "metadata": {},
   "outputs": [
    {
     "name": "stdout",
     "output_type": "stream",
     "text": [
      "[[1, 2, 3, 4], [5, 6, 7, 8], ['red', 'white', 'orange']]\n"
     ]
    }
   ],
   "source": [
    "a = [1,2,3,4]\n",
    "b = [5,6,7,8]\n",
    "c = ['red', 'white', 'orange']\n",
    "\n",
    "d = [a,b,c]\n",
    "print(d)"
   ]
  },
  {
   "cell_type": "code",
   "execution_count": 16,
   "metadata": {},
   "outputs": [
    {
     "name": "stdout",
     "output_type": "stream",
     "text": [
      "[['bread', 'butter', 'Havarti', 'Swiss cheese'], ['noodles', 'tomato sauce', 'Parmesagna cheese'], ['eggs', 'flour', 'vanilla extract', 'baking powder']]\n"
     ]
    }
   ],
   "source": [
    "'''\n",
    "Why might we use a list within a list? Can you give an example?\n",
    "'''\n",
    "\n",
    "# If we were assembling our shopping list for the week's meals, and each sub-list were the ingredients\n",
    "# for that day's meals, then using lists within a list would give us all of the ingredients we need to get\n",
    "# at the store, but keep them separated for ease in finding them.\n",
    "\n",
    "# For example:\n",
    "\n",
    "grilled_cheese = ['bread', 'butter', 'Havarti', 'Swiss cheese']\n",
    "spaghetti = ['noodles', 'tomato sauce', 'Parmesagna cheese']\n",
    "cake = ['eggs', 'flour', 'vanilla extract', 'baking powder']\n",
    "\n",
    "ingredients_list = [grilled_cheese, spaghetti, cake]\n",
    "\n",
    "print(ingredients_list)\n",
    "\n"
   ]
  },
  {
   "cell_type": "code",
   "execution_count": null,
   "metadata": {},
   "outputs": [],
   "source": []
  }
 ],
 "metadata": {
  "kernelspec": {
   "display_name": "Python 3",
   "language": "python",
   "name": "python3"
  },
  "language_info": {
   "codemirror_mode": {
    "name": "ipython",
    "version": 3
   },
   "file_extension": ".py",
   "mimetype": "text/x-python",
   "name": "python",
   "nbconvert_exporter": "python",
   "pygments_lexer": "ipython3",
   "version": "3.7.3"
  },
  "toc": {
   "base_numbering": 1,
   "nav_menu": {},
   "number_sections": true,
   "sideBar": true,
   "skip_h1_title": false,
   "title_cell": "Table of Contents",
   "title_sidebar": "Contents",
   "toc_cell": false,
   "toc_position": {},
   "toc_section_display": true,
   "toc_window_display": false
  },
  "varInspector": {
   "cols": {
    "lenName": 16,
    "lenType": 16,
    "lenVar": 40
   },
   "kernels_config": {
    "python": {
     "delete_cmd_postfix": "",
     "delete_cmd_prefix": "del ",
     "library": "var_list.py",
     "varRefreshCmd": "print(var_dic_list())"
    },
    "r": {
     "delete_cmd_postfix": ") ",
     "delete_cmd_prefix": "rm(",
     "library": "var_list.r",
     "varRefreshCmd": "cat(var_dic_list()) "
    }
   },
   "types_to_exclude": [
    "module",
    "function",
    "builtin_function_or_method",
    "instance",
    "_Feature"
   ],
   "window_display": false
  }
 },
 "nbformat": 4,
 "nbformat_minor": 2
}
