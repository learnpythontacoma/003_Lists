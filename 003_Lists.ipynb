{
 "cells": [
  {
   "cell_type": "markdown",
   "metadata": {},
   "source": [
    "<img src ='graphics/python_logo.png'>\n",
    "\n",
    "# Lesson 003_Lists\n",
    "\n",
    "## What are Lists in Python?\n",
    "\n",
    "Lists are our first, and most often used, means of storing and retrieving data in Python. They are fundamental as a storage structure. So what are they?\n",
    "\n",
    "A List is a collection of items that are assigned to a variable in Python. Lists are:\n",
    "1. denoted by square brackets within code \"[ ]\"\n",
    "1. can contain any type of information (e.g., integers, strings, floats, and even other lists)\n",
    "1. can be of any length, from nothing (yes, lists can be empty as we will see) to several thousand entries\n",
    "\n",
    "In the next block of code, you will see a variable called `a`. It is a list (as we can tell by the square brackets around the values) that contains strings, integers, and floats. You will also notice that around each string we are using either single quotation marks ' or double quotation marks \" to tell python these are strings. We have mixed these quotation marks in this example just to show that it can be done and that python accepts either form. (For good coding, we want to generally default to single quotation marks ' as much as possible.)"
   ]
  },
  {
   "cell_type": "code",
   "execution_count": null,
   "metadata": {},
   "outputs": [],
   "source": [
    "a = ['Black Knight', 'air-ladened swallow', 3.01, 42, \"Nee\"]"
   ]
  },
  {
   "cell_type": "markdown",
   "metadata": {},
   "source": [
    "When we run the following print statement for variable `a`, you will immediately see that python returns the list with square brackets rather than each list item individually. To python, the contents of the list (the value of the variable `a` equals ALL of the contents of the list. "
   ]
  },
  {
   "cell_type": "code",
   "execution_count": null,
   "metadata": {},
   "outputs": [],
   "source": [
    "print(a)"
   ]
  },
  {
   "cell_type": "markdown",
   "metadata": {},
   "source": [
    "There will be times when we will want to print out all elements of a list, but normally, this will not meet our needs. For example, if we wanted to answer the statement, \"He said it was only a scratch!\", it would look odd printing out as we see in the next block of code. "
   ]
  },
  {
   "cell_type": "code",
   "execution_count": null,
   "metadata": {},
   "outputs": [],
   "source": [
    "print('He said it was only a scratch!  Who is the', a)"
   ]
  },
  {
   "cell_type": "markdown",
   "metadata": {},
   "source": [
    "# Accessing Elements in a List\n",
    "\n",
    "Python makes it easy to access an item in a list. For each element in a list, it holds a position. For example, if we run the next block of code, we see that 'Black Knight' occupies the zero (0) position in the list. "
   ]
  },
  {
   "cell_type": "code",
   "execution_count": null,
   "metadata": {},
   "outputs": [],
   "source": [
    "print(a[0])"
   ]
  },
  {
   "cell_type": "markdown",
   "metadata": {},
   "source": [
    "**Do you notice that we placed the position number of the element in square brackets [ . ]?**\n",
    "\n",
    "In python, the first position of every storage device (in this case, a list) is noted by a zero (0) and *not* a one (1). Python considers the first item in a list to be at position 0 and not position 1. \n",
    "\n",
    "In the next block, try changing the position number for elements (the number in the square brackets) and see what you get."
   ]
  },
  {
   "cell_type": "code",
   "execution_count": null,
   "metadata": {},
   "outputs": [],
   "source": [
    "print(a[4])"
   ]
  },
  {
   "cell_type": "markdown",
   "metadata": {},
   "source": [
    "___\n",
    "Knowing this, finish the print code in the next block so it prints, \"He says it is only a scratch!  Who is the Black Knight?\". I will help you get started."
   ]
  },
  {
   "cell_type": "code",
   "execution_count": null,
   "metadata": {},
   "outputs": [],
   "source": [
    "print('He says it is only a scratch!  Who is the '+a[ ]  +'?')"
   ]
  },
  {
   "cell_type": "markdown",
   "metadata": {},
   "source": [
    "___\n",
    "\n",
    "Did you notice that we used the '+' operator in the print statement? \"Black Knight\" is a string, so we can use it. But what if the value we want is a[2] or a[3]? \n",
    "\n",
    "Write out a print statement in the next block of code that contains a string and either the a[2] or a[3] value. "
   ]
  },
  {
   "cell_type": "code",
   "execution_count": null,
   "metadata": {},
   "outputs": [],
   "source": [
    "#Write out a print statement code that contains a string and either the a[2] or a[3] value.\n",
    "\n"
   ]
  },
  {
   "cell_type": "markdown",
   "metadata": {},
   "source": [
    "# Changing, Adding or Removing Elements from a List\n",
    "\n",
    "If all lists were static and we never needed to change anything contained in the list, our lesson would end there. But then, if that was the case, Python would be far from useful. \n",
    "\n",
    "The overwhelming majority of lists in the Python world are dynamic. As a programmer, you will be adding, removing, or changing elements in a list. Python makes it easy to do this. \n",
    "\n",
    "\n",
    "## Modifying an element in a list\n",
    "The syntax for modifying an element in a list is similar to the syntax for accessing an element in a list. \n",
    "\n",
    "For example, if we want to replace the third element in our list of auto manufacturers in the next block of code with the name'Ford', we would add it as follows:"
   ]
  },
  {
   "cell_type": "code",
   "execution_count": null,
   "metadata": {},
   "outputs": [],
   "source": [
    "autos = ['Chevy', 'BMW', 'Mercedes', 'Trabi']\n",
    "\n",
    "print (autos)\n",
    "\n",
    "autos[2] = 'Ford'\n",
    "\n",
    "print(autos)"
   ]
  },
  {
   "cell_type": "markdown",
   "metadata": {},
   "source": [
    "## Adding elements in a list\n",
    "\n",
    "Let's say that we want to ADD 'Ford' to our list of auto manufactures and we want to keep all of the other manufacturers' names. We can do this in one of two ways: by inserting the name into a specific position or by adding it to the end of a list.\n",
    "\n",
    "`.insert()` allows us to insert an element into a specific place in the order of our list. \n",
    "\n",
    "Given the same `autos` list that we used above and given that we want to place 'Ford' into the third place in the list, we `.insert()` it as follows."
   ]
  },
  {
   "cell_type": "code",
   "execution_count": null,
   "metadata": {},
   "outputs": [],
   "source": [
    "autos = ['Chevy', 'BMW', 'Mercedes', 'Trabi']\n",
    "\n",
    "print (autos)\n",
    "\n",
    "autos.insert(2, 'Ford')\n",
    "\n",
    "print(autos)"
   ]
  },
  {
   "cell_type": "markdown",
   "metadata": {},
   "source": [
    "First, we tell python that we are working with the `autos` variable. Next, we tell python that we want to `.insert()` an item. Then we tell it within the brackets which position we want the new element to go into (in this case it is position 2 - remember that the first position in a list is the zero position, not the 1 position). Finally, after a comma, we tell python what we want placed into that position. This gives us the simple statement:\n",
    "\n",
    "autos.insert(2, 'Ford')\n",
    "\n",
    "Python does the rest. \n",
    "\n",
    "If we don't care what position the item occupies in a list - and with lists it really doesn't matter for the majority of the times you are programming - then it is good enough to place the new item at the end of the list. To do this, we use `.append()`. When you append an item to a list, the new element is added to the end of the list.\n"
   ]
  },
  {
   "cell_type": "code",
   "execution_count": null,
   "metadata": {},
   "outputs": [],
   "source": [
    "autos = ['Chevy', 'BMW', 'Mercedes', 'Trabi']\n",
    "\n",
    "print (autos)\n",
    "\n",
    "autos.append('Ford')\n",
    "\n",
    "print(autos)"
   ]
  },
  {
   "cell_type": "markdown",
   "metadata": {},
   "source": [
    "Because the element is going to the end of the list, we don't need to tell python the position. Thus, with the `.append()` command, we do not put a position marker in to the code. Python already knows it will go at the end of the list. "
   ]
  },
  {
   "cell_type": "markdown",
   "metadata": {},
   "source": [
    "# Exercise #1 (Individual Work)\n",
    "\n",
    "Let's stop and try out these new skills with some exercises. \n",
    "\n",
    "In the next block of code, assign the first names of five of your family members or friends to a list, then print it out."
   ]
  },
  {
   "cell_type": "code",
   "execution_count": null,
   "metadata": {},
   "outputs": [],
   "source": [
    "# Assign the first names of five of your family members or friends to a list, then print it out.\n",
    "\n",
    "\n"
   ]
  },
  {
   "cell_type": "markdown",
   "metadata": {},
   "source": [
    "Next, because Uncle Elroy is your favorite uncle, you want to add his name to the first position in the list. "
   ]
  },
  {
   "cell_type": "code",
   "execution_count": null,
   "metadata": {},
   "outputs": [],
   "source": [
    "# Add 'Elroy' to the first position in the list you produced above, then print out the list. \n",
    "\n"
   ]
  },
  {
   "cell_type": "markdown",
   "metadata": {},
   "source": [
    "Of course, Aunt Estella is loved, but she is not as loved as every one else in the list, so add her name to the list, but at the end. "
   ]
  },
  {
   "cell_type": "code",
   "execution_count": null,
   "metadata": {},
   "outputs": [],
   "source": [
    "# Add 'Estella' to the end of the list you produced above, then print out the list.\n",
    "\n"
   ]
  },
  {
   "cell_type": "markdown",
   "metadata": {},
   "source": [
    "# Removing elements from a list\n",
    "\n",
    "Now that we have a list of our great friends and family members, we notice that we want to change the list. One of our friends had us pay for her pizza the other night without asking us to do it (and we are on a budget). So she is not a favorite friend right now. Well, we can easily delete her from our list.\n",
    "\n",
    "## `del` statements\n",
    "In python, the `.del` statement allows us to delete an element from our list, provided that we know the position number of the element we want to delete. \n",
    "\n",
    "For example, if we know that our cheap, non-paying friend's name is in position 3 of our list `friends`, then we simply tell python:\n",
    "\n",
    "del friends[2]\n",
    "\n",
    "Now you try it. In the next block, write a statement to delete the name of the friend in element position 3 from your list, then print out the new list. "
   ]
  },
  {
   "cell_type": "code",
   "execution_count": null,
   "metadata": {},
   "outputs": [],
   "source": [
    "# Write a statement to delete the name of the friend in element position 3 from your list, \n",
    "# then print out the new list.\n",
    "\n"
   ]
  },
  {
   "cell_type": "markdown",
   "metadata": {},
   "source": [
    "***NOTE: When you use a `del` statement, python will permanently delete the item from the list. If you want to return it to the list, you will need to use one of the techniques we discussed earlier to place an item in the list. ***"
   ]
  },
  {
   "cell_type": "markdown",
   "metadata": {},
   "source": [
    "## `.pop()` command\n",
    "\n",
    "The `del` statement is fine if we want to permanently delete an element from a list, but what do we do if we want to temporarily pop the value out of the list? In those cases, we use the `.pop()` command.\n",
    "\n",
    "The `.pop()` command let's us \"pop\" an element out of our list temporarily. Python still keeps the element in its memory, but it overlooks it for the action we are taking. \n",
    "\n",
    "`.pop()` can remove an element by position -- friends.pop(3) (to temporarily pop out the fourth name in our friends list, or the `.pop()` command can remove the last item in a list -- friends.pop().\n",
    "\n",
    "Let's run the next two blocks of code and see what it does to our list. "
   ]
  },
  {
   "cell_type": "code",
   "execution_count": null,
   "metadata": {},
   "outputs": [],
   "source": [
    "print(autos)\n",
    "\n",
    "autos.pop(2)\n",
    "\n",
    "print(autos)"
   ]
  },
  {
   "cell_type": "code",
   "execution_count": null,
   "metadata": {},
   "outputs": [],
   "source": [
    "autos = ['Chevy', 'BMW', 'Ford', 'Trabi']\n",
    "\n",
    "print(autos)\n",
    "\n",
    "autos.pop()\n",
    "\n",
    "print(autos)"
   ]
  },
  {
   "cell_type": "markdown",
   "metadata": {},
   "source": [
    "## `.remove()` command\n",
    "\n",
    "Let's say that you have a list with 100 elements. And you are not sure in which element position the value you are seeking is located, but you want to remove that specific value, the `.remove()` command is what you want to use. \n",
    "\n",
    "Let's say that you have a guest list that has 20 names in it. You don't know what position \"Elroy\" is located, but you know that you don't want him at the party - his humor can be off-color at times. Run the next block of code to see how we can eliminate him from our guest list without knowing the position his name is in. "
   ]
  },
  {
   "cell_type": "code",
   "execution_count": null,
   "metadata": {},
   "outputs": [],
   "source": [
    "guest_list = ['Janet', 'Shay', 'Liu', 'Elenor', 'John', 'Rosa', 'Shaquine', 'Sadhil', 'Elroy', 'Jake', 'Ben']\n",
    "\n",
    "print(guest_list)\n",
    "\n",
    "guest_list.remove('Elroy')\n",
    "\n",
    "print(guest_list)"
   ]
  },
  {
   "cell_type": "markdown",
   "metadata": {},
   "source": [
    "---\n",
    "We can also use a variable in the `.remove()` command. For example,"
   ]
  },
  {
   "cell_type": "code",
   "execution_count": null,
   "metadata": {},
   "outputs": [],
   "source": [
    "guest_list = ['Janet', 'Shay', 'Liu', 'Elenor', 'John', 'Rosa', 'Shaquine', 'Sadhil', 'Elroy', 'Jake', 'Ben']\n",
    "\n",
    "print(guest_list)\n",
    "\n",
    "bad_jokes = 'Elroy'\n",
    "\n",
    "guest_list.remove(bad_jokes)\n",
    "\n",
    "print(guest_list)"
   ]
  },
  {
   "cell_type": "markdown",
   "metadata": {},
   "source": [
    "# Sorting a list with `.sort( )`\n",
    "\n",
    "A list can be any elements in any order, but what if we want to sort our list - such as the guest_list above. To do that we use the `.sort( )` command to permanently sort a list.\n",
    "\n",
    "If we want to temporarily sort a list, we use the `sorted()` command."
   ]
  },
  {
   "cell_type": "code",
   "execution_count": null,
   "metadata": {},
   "outputs": [],
   "source": [
    "guest_list = ['Janet', 'Shay', 'Liu', 'Elenor', 'John', 'Rosa', 'Shaquine', 'Sadhil', 'Elroy', 'Jake', 'Ben']\n",
    "\n",
    "print('sorted():', sorted(guest_list))\n",
    "\n",
    "print('Normal:', guest_list)\n",
    "\n",
    "guest_list.sort()\n",
    "print('.sort():', guest_list)"
   ]
  },
  {
   "cell_type": "markdown",
   "metadata": {},
   "source": [
    "# Finding the Length of a List\n",
    "\n",
    "Not all of your programming lists will be short and easy to determine how long they are. Often, you will be using lists that others have produced, so you won't know how big they are. Python makes it easy to find the length of a list by simply using the `len()` command. \n",
    "\n",
    "Run the following block of code to generate a list of random size. Everytime you run this block, you will generate a list of random size between 1 and 1000 elements long. You will not know how long each will be."
   ]
  },
  {
   "cell_type": "code",
   "execution_count": null,
   "metadata": {},
   "outputs": [],
   "source": [
    "# Run this block of code to generate a list of random length for our next lesson item\n",
    "\n",
    "import random\n",
    "\n",
    "random_number = random.randint(1, 1000)\n",
    "\n",
    "a = []\n",
    "\n",
    "for i in range(random_number):\n",
    "    n = random.randint(10, 10000)\n",
    "    a.append(n)\n",
    "    "
   ]
  },
  {
   "cell_type": "markdown",
   "metadata": {},
   "source": [
    "Now that you have run this code, and assuming that you want to know how many elements are in the list, you can either:\n",
    "1. print out the list and count them all or\n",
    "1. ask python how long the list is. \n",
    "\n",
    "To ask python how long the list is (what is its LENGTH), use the `len()` command. The syntax is `len(list)`.\n",
    "\n",
    "In the next block, using the `len()` command, find out how long is your list. "
   ]
  },
  {
   "cell_type": "code",
   "execution_count": null,
   "metadata": {},
   "outputs": [],
   "source": [
    "# Using the len() command, find out how long is your list.\n",
    "\n",
    "\n"
   ]
  },
  {
   "cell_type": "markdown",
   "metadata": {},
   "source": [
    "# Exercise 2: Working with Lists #1"
   ]
  },
  {
   "cell_type": "code",
   "execution_count": null,
   "metadata": {},
   "outputs": [],
   "source": [
    "# Run this block of code to generate a list of random length for our next lesson item\n",
    "\n",
    "import random\n",
    "\n",
    "random_number = random.randint(1, 1000)\n",
    "\n",
    "a = []\n",
    "\n",
    "for i in range(random_number):\n",
    "    n = random.randint(10, 10000)\n",
    "    a.append(n)\n",
    "    "
   ]
  },
  {
   "cell_type": "markdown",
   "metadata": {},
   "source": [
    "Now that you have a random size list of random numbers between 10-10,000, let's do some sorting and working with it. \n",
    "\n",
    "Your list is called 'a'."
   ]
  },
  {
   "cell_type": "code",
   "execution_count": null,
   "metadata": {},
   "outputs": [],
   "source": [
    "# Determine how long is your list.\n",
    "\n"
   ]
  },
  {
   "cell_type": "code",
   "execution_count": null,
   "metadata": {},
   "outputs": [],
   "source": [
    "# Print out a copy of your list so you get a sense of the number order\n",
    "\n"
   ]
  },
  {
   "cell_type": "code",
   "execution_count": null,
   "metadata": {},
   "outputs": [],
   "source": [
    "# Add the number 3456 into your list\n",
    "\n"
   ]
  },
  {
   "cell_type": "code",
   "execution_count": null,
   "metadata": {},
   "outputs": [],
   "source": [
    "# Sort your list from smallest number to largest number\n",
    "\n"
   ]
  },
  {
   "cell_type": "code",
   "execution_count": null,
   "metadata": {},
   "outputs": [],
   "source": []
  },
  {
   "cell_type": "code",
   "execution_count": null,
   "metadata": {},
   "outputs": [],
   "source": []
  }
 ],
 "metadata": {
  "kernelspec": {
   "display_name": "Python 3",
   "language": "python",
   "name": "python3"
  },
  "language_info": {
   "codemirror_mode": {
    "name": "ipython",
    "version": 3
   },
   "file_extension": ".py",
   "mimetype": "text/x-python",
   "name": "python",
   "nbconvert_exporter": "python",
   "pygments_lexer": "ipython3",
   "version": "3.7.3"
  },
  "toc": {
   "base_numbering": 1,
   "nav_menu": {},
   "number_sections": true,
   "sideBar": true,
   "skip_h1_title": false,
   "title_cell": "Table of Contents",
   "title_sidebar": "Contents",
   "toc_cell": false,
   "toc_position": {},
   "toc_section_display": true,
   "toc_window_display": true
  },
  "varInspector": {
   "cols": {
    "lenName": 16,
    "lenType": 16,
    "lenVar": 40
   },
   "kernels_config": {
    "python": {
     "delete_cmd_postfix": "",
     "delete_cmd_prefix": "del ",
     "library": "var_list.py",
     "varRefreshCmd": "print(var_dic_list())"
    },
    "r": {
     "delete_cmd_postfix": ") ",
     "delete_cmd_prefix": "rm(",
     "library": "var_list.r",
     "varRefreshCmd": "cat(var_dic_list()) "
    }
   },
   "types_to_exclude": [
    "module",
    "function",
    "builtin_function_or_method",
    "instance",
    "_Feature"
   ],
   "window_display": false
  }
 },
 "nbformat": 4,
 "nbformat_minor": 2
}
